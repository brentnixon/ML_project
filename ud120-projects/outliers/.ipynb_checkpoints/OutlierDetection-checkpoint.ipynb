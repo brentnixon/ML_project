{
 "cells": [
  {
   "cell_type": "code",
   "execution_count": 5,
   "metadata": {},
   "outputs": [
    {
     "data": {
      "text/plain": [
       "['Untitled.ipynb',\n",
       " 'practice_outliers_ages.pkl',\n",
       " 'outlier_removal_regression.py',\n",
       " 'outlier_cleaner.py',\n",
       " 'enron_outliers.py',\n",
       " '.ipynb_checkpoints',\n",
       " 'practice_outliers_net_worths.pkl']"
      ]
     },
     "execution_count": 5,
     "metadata": {},
     "output_type": "execute_result"
    }
   ],
   "source": [
    "import os\n",
    "os.chdir('/Users/brentan/Documents/DAND/Week 13/ud120-projects/outliers')\n",
    "os.getcwd()\n",
    "os.listdir()"
   ]
  },
  {
   "cell_type": "code",
   "execution_count": 64,
   "metadata": {},
   "outputs": [
    {
     "data": {
      "image/png": "[encoded data removed]",
      "text/plain": [
       "<matplotlib.figure.Figure at 0x1a1d7ead68>"
      ]
     },
     "metadata": {},
     "output_type": "display_data"
    }
   ],
   "source": [
    "# #!/usr/bin/python\n",
    "\n",
    "# import random\n",
    "# import numpy\n",
    "# import matplotlib.pyplot as plt\n",
    "# import pickle\n",
    "\n",
    "# from outlier_cleaner import outlierCleaner\n",
    "\n",
    "\n",
    "# ### load up some practice data with outliers in it\n",
    "# ages = pickle.load( open(\"practice_outliers_ages.pkl\", \"rb\") )\n",
    "# net_worths = pickle.load( open(\"practice_outliers_net_worths.pkl\", \"rb\") )\n",
    "\n",
    "\n",
    "\n",
    "# ### ages and net_worths need to be reshaped into 2D numpy arrays\n",
    "# ### second argument of reshape command is a tuple of integers: (n_rows, n_columns)\n",
    "# ### by convention, n_rows is the number of data points\n",
    "# ### and n_columns is the number of features\n",
    "# ages       = numpy.reshape( numpy.array(ages), (len(ages), 1))\n",
    "# net_worths = numpy.reshape( numpy.array(net_worths), (len(net_worths), 1))\n",
    "# from sklearn.cross_validation import train_test_split\n",
    "# ages_train, ages_test, net_worths_train, net_worths_test = train_test_split(ages, net_worths, test_size=0.1, random_state=42)\n",
    "\n",
    "### fill in a regression here!  Name the regression object reg so that\n",
    "### the plotting code below works, and you can see what your regression looks like\n",
    "\n",
    "\n",
    "# from sklearn.linear_model import LinearRegression\n",
    "# reg = LinearRegression()\n",
    "# reg.fit(ages_train, net_worths_train)\n",
    "\n",
    "\n",
    "# try:\n",
    "#     plt.plot(ages, reg.predict(ages), color=\"blue\")\n",
    "# except NameError:\n",
    "#     pass\n",
    "# plt.scatter(ages, net_worths)\n",
    "# plt.title(\"ages, reg.predict(ages)\")\n",
    "# plt.show()\n",
    "\n",
    "\n",
    "# # ### identify and remove the most outlier-y points\n",
    "# cleaned_data = []\n",
    "# try:\n",
    "#     predictions = reg.predict(ages_train)\n",
    "#     cleaned_data = outlierCleaner( predictions, ages_train, net_worths_train )\n",
    "# except NameError:\n",
    "#     print(\"your regression object doesn't exist, or isn't name reg\")\n",
    "#     print(\"can't make predictions to use in identifying outliers\")\n",
    "\n",
    "\n",
    "\n",
    "# ### only run this code if cleaned_data is returning data\n",
    "# if len(cleaned_data) > 0:\n",
    "#     ages, net_worths, errors = zip(*cleaned_data)\n",
    "#     ages       = numpy.reshape( numpy.array(ages), (len(ages), 1))\n",
    "#     net_worths = numpy.reshape( numpy.array(net_worths), (len(net_worths), 1))\n",
    "\n",
    "#     ### refit your cleaned data!\n",
    "#     try:\n",
    "#         reg.fit(ages, net_worths)\n",
    "#         plt.plot(ages, reg.predict(ages), color=\"blue\")\n",
    "#     except NameError:\n",
    "#         print(\"you don't seem to have regression imported/created,\")\n",
    "#         print(\"   or else your regression object isn't named reg\")\n",
    "#         print(\"   either way, only draw the scatter plot of the cleaned data\")\n",
    "#     plt.scatter(ages, net_worths)\n",
    "#     plt.xlabel(\"ages\")\n",
    "#     plt.ylabel(\"net worths\")\n",
    "#     plt.show()\n",
    "\n",
    "\n",
    "# else:\n",
    "#     print(\"outlierCleaner() is returning an empty list, no refitting to be done\")\n",
    "\n"
   ]
  },
  {
   "cell_type": "code",
   "execution_count": 66,
   "metadata": {},
   "outputs": [
    {
     "data": {
      "text/plain": [
       "0.98318945539553215"
      ]
     },
     "execution_count": 66,
     "metadata": {},
     "output_type": "execute_result"
    }
   ],
   "source": [
    "# reg.score(ages_test, net_worths_test)"
   ]
  },
  {
   "cell_type": "code",
   "execution_count": 59,
   "metadata": {},
   "outputs": [],
   "source": [
    "# def outlierCleaner(predictions, ages, net_worths):\n",
    "#     \"\"\"\n",
    "#         Clean away the 10% of points that have the largest\n",
    "#         residual errors (difference between the prediction\n",
    "#         and the actual net worth).\n",
    "\n",
    "#         Return a list of tuples named cleaned_data where \n",
    "#         each tuple is of the form (age, net_worth, error).\n",
    "#     \"\"\"\n",
    "    \n",
    "#     cleaned_data = []\n",
    "\n",
    "#     ### your code goes here\n",
    "#     import numpy as np\n",
    "\n",
    "#     for i in range(len(ages)):\n",
    "#         age = int(ages[i])\n",
    "#         nw = float(net_worths[i])\n",
    "#         err = abs(float(predictions[i] - net_worths[i]))\n",
    "#         tup = (age, nw, err)\n",
    "#         cleaned_data.append(tup)\n",
    "\n",
    "#     ext = int(.9*len(cleaned_data))\n",
    "#     cleaned_data = sorted(cleaned_data, key=lambda x: x[2]) \n",
    "#     cleaned_data = cleaned_data[ : ext]\n",
    "\n",
    "#     return cleaned_data\n",
    "\n"
   ]
  },
  {
   "cell_type": "code",
   "execution_count": 148,
   "metadata": {},
   "outputs": [
    {
     "data": {
      "image/png": "[encoded data removed]",
      "text/plain": [
       "<matplotlib.figure.Figure at 0x1a1ef75668>"
      ]
     },
     "metadata": {},
     "output_type": "display_data"
    }
   ],
   "source": [
    "#!/usr/bin/python\n",
    "\n",
    "\n",
    "import pickle\n",
    "import sys\n",
    "import matplotlib.pyplot\n",
    "sys.path.append(\"../tools/\")\n",
    "from feature_format import featureFormat, targetFeatureSplit\n",
    "\n",
    "\n",
    "### read in data dictionary, convert to numpy array\n",
    "data_dict = pickle.load( open(\"../final_project/final_project_dataset.pkl\", \"rb\") )\n",
    "data_dict.pop(\"TOTAL\", 0)\n",
    "features = [\"salary\", \"bonus\"]\n",
    "data = featureFormat(data_dict, features)\n",
    "\n",
    "\n",
    "### your code below\n",
    "\n",
    "for point in data:\n",
    "    salary = point[0]\n",
    "    bonus = point[1]\n",
    "    matplotlib.pyplot.scatter( salary, bonus )\n",
    "\n",
    "matplotlib.pyplot.xlabel(\"salary\")\n",
    "matplotlib.pyplot.ylabel(\"bonus\")\n",
    "matplotlib.pyplot.show()\n",
    "\n",
    "\n",
    "\n"
   ]
  },
  {
   "cell_type": "code",
   "execution_count": 149,
   "metadata": {},
   "outputs": [
    {
     "ename": "KeyError",
     "evalue": "'TOTAL'",
     "output_type": "error",
     "traceback": [
      "\u001b[0;31m---------------------------------------------------------------------------\u001b[0m",
      "\u001b[0;31mKeyError\u001b[0m                                  Traceback (most recent call last)",
      "\u001b[0;32m<ipython-input-149-32e01b4e0c05>\u001b[0m in \u001b[0;36m<module>\u001b[0;34m()\u001b[0m\n\u001b[0;32m----> 1\u001b[0;31m \u001b[0mdata_dict\u001b[0m\u001b[0;34m[\u001b[0m\u001b[0;34m'TOTAL'\u001b[0m\u001b[0;34m]\u001b[0m\u001b[0;34m\u001b[0m\u001b[0m\n\u001b[0m",
      "\u001b[0;31mKeyError\u001b[0m: 'TOTAL'"
     ]
    }
   ],
   "source": [
    "data_dict['TOTAL']"
   ]
  },
  {
   "cell_type": "code",
   "execution_count": 255,
   "metadata": {},
   "outputs": [
    {
     "name": "stdout",
     "output_type": "stream",
     "text": [
      "LAY KENNETH L\n",
      "SKILLING JEFFREY K\n"
     ]
    }
   ],
   "source": [
    "# sal = sorted(data, key=lambda x: x[1])[-1][0]\n",
    "# for pope in data_dict:\n",
    "#     print(pope)\n",
    "#     for peep in data_dict.values():\n",
    "#         if peep['salary'] == sal:\n",
    "#             name = pope\n",
    "#             break\n",
    "# name\n",
    "\n",
    "\n",
    "for employee in data_dict:\n",
    "    if (data_dict[employee]['salary'] != 'NaN') and (data_dict[employee]['bonus'] != 'NaN'):\n",
    "        if (float(data_dict[employee]['salary']) > 1000000) and (float(data_dict[employee]['bonus'])) > 5000000:\n",
    "            print(employee)\n",
    "\n",
    "\n",
    "\n",
    "\n"
   ]
  },
  {
   "cell_type": "code",
   "execution_count": 150,
   "metadata": {},
   "outputs": [
    {
     "data": {
      "text/plain": [
       "[array([ 477.,    0.]),\n",
       " array([ 6615.,     0.]),\n",
       " array([ 63744.,      0.]),\n",
       " array([  76399.,  100000.]),\n",
       " array([ 80818.,      0.]),\n",
       " array([ 85274.,      0.]),\n",
       " array([ 94941.,      0.]),\n",
       " array([ 96840.,      0.]),\n",
       " array([ 130724.,       0.]),\n",
       " array([ 158403.,       0.]),\n",
       " array([ 162779.,  100000.]),\n",
       " array([ 170941.,  350000.]),\n",
       " array([ 174246.,       0.]),\n",
       " array([ 182245.,  200000.]),\n",
       " array([ 184899.,  325000.]),\n",
       " array([ 187922.,  250000.]),\n",
       " array([ 192008.,  509870.]),\n",
       " array([ 197091.,  400000.]),\n",
       " array([ 199157.,  350000.]),\n",
       " array([  201955.,  4175000.]),\n",
       " array([ 206121.,  600000.]),\n",
       " array([ 210500.,  425000.]),\n",
       " array([ 210692.,  750000.]),\n",
       " array([  211788.,  1700000.]),\n",
       " array([ 211844.,  200000.]),\n",
       " array([  213625.,  1000000.]),\n",
       " array([  213999.,  5249999.]),\n",
       " array([ 216582.,       0.]),\n",
       " array([ 221003.,   70000.]),\n",
       " array([ 222093.,       0.]),\n",
       " array([ 224305.,  800000.]),\n",
       " array([ 229284.,  400000.]),\n",
       " array([ 231330.,  700000.]),\n",
       " array([ 231946.,  850000.]),\n",
       " array([ 236457.,  200000.]),\n",
       " array([ 239502.,  500000.]),\n",
       " array([ 239671.,  400000.]),\n",
       " array([  240189.,  1250000.]),\n",
       " array([  243293.,  1500000.]),\n",
       " array([ 247338.,  300000.]),\n",
       " array([ 248017.,  500000.]),\n",
       " array([ 248146.,  600000.]),\n",
       " array([ 248546.,  850000.]),\n",
       " array([ 249201.,  700000.]),\n",
       " array([ 250100.,  600000.]),\n",
       " array([  251654.,  1100000.]),\n",
       " array([ 257486.,  700000.]),\n",
       " array([ 259996.,  325000.]),\n",
       " array([ 261516.,  750000.]),\n",
       " array([ 261809.,  300000.]),\n",
       " array([  261879.,  1000000.]),\n",
       " array([ 262663.,  700000.]),\n",
       " array([  262788.,  1000000.]),\n",
       " array([ 263413.,  900000.]),\n",
       " array([ 265214.,  600000.]),\n",
       " array([ 267093.,  325000.]),\n",
       " array([  267102.,  1200000.]),\n",
       " array([ 269076.,  650000.]),\n",
       " array([  271442.,  3100000.]),\n",
       " array([ 272880.,  750000.]),\n",
       " array([  273746.,  1000000.]),\n",
       " array([ 274975.,  600000.]),\n",
       " array([ 275101.,  400000.]),\n",
       " array([  278601.,  1350000.]),\n",
       " array([ 278601.,  800000.]),\n",
       " array([  288542.,  1200000.]),\n",
       " array([ 288558.,  250000.]),\n",
       " array([ 288589.,  788750.]),\n",
       " array([  304110.,  2000000.]),\n",
       " array([  304588.,  2500000.]),\n",
       " array([ 309946.,  700000.]),\n",
       " array([ 314288.,  800000.]),\n",
       " array([ 317543.,  450000.]),\n",
       " array([ 329078.,  750000.]),\n",
       " array([ 330546.,  900000.]),\n",
       " array([  339288.,  8000000.]),\n",
       " array([ 349487.,       0.]),\n",
       " array([ 357091.,  850000.]),\n",
       " array([  365038.,  1100000.]),\n",
       " array([  365163.,  3000000.]),\n",
       " array([ 365788.,  600000.]),\n",
       " array([  370448.,  2600000.]),\n",
       " array([  374125.,  1150000.]),\n",
       " array([  404338.,  1000000.]),\n",
       " array([  415189.,  1000000.]),\n",
       " array([  420636.,  1750000.]),\n",
       " array([  428780.,  1500000.]),\n",
       " array([  440698.,  1300000.]),\n",
       " array([ 492375.,  800000.]),\n",
       " array([  510364.,  3000000.]),\n",
       " array([ 655037.,  300000.]),\n",
       " array([ 1060932.,  2000000.]),\n",
       " array([ 1072321.,  7000000.]),\n",
       " array([ 1111258.,  5600000.])]"
      ]
     },
     "execution_count": 150,
     "metadata": {},
     "output_type": "execute_result"
    }
   ],
   "source": [
    "sorted(data, key=lambda x: x[0])\n"
   ]
  },
  {
   "cell_type": "code",
   "execution_count": 244,
   "metadata": {
    "collapsed": true
   },
   "outputs": [],
   "source": [
    "import pandas as pd\n",
    "en =  pd.DataFrame(data_dict)\n",
    "en = en.transpose().reset_index()\n"
   ]
  },
  {
   "cell_type": "code",
   "execution_count": 207,
   "metadata": {},
   "outputs": [
    {
     "data": {
      "text/plain": [
       "Index(['index', 'bonus', 'deferral_payments', 'deferred_income',\n",
       "       'director_fees', 'email_address', 'exercised_stock_options', 'expenses',\n",
       "       'from_messages', 'from_poi_to_this_person', 'from_this_person_to_poi',\n",
       "       'loan_advances', 'long_term_incentive', 'other', 'poi',\n",
       "       'restricted_stock', 'restricted_stock_deferred', 'salary',\n",
       "       'shared_receipt_with_poi', 'to_messages', 'total_payments',\n",
       "       'total_stock_value'],\n",
       "      dtype='object')"
      ]
     },
     "execution_count": 207,
     "metadata": {},
     "output_type": "execute_result"
    }
   ],
   "source": [
    "en.columns"
   ]
  },
  {
   "cell_type": "code",
   "execution_count": 232,
   "metadata": {},
   "outputs": [
    {
     "name": "stdout",
     "output_type": "stream",
     "text": [
      "<class 'str'>\n"
     ]
    }
   ],
   "source": [
    "\n",
    "# # en['salary'].idxmax()\n",
    "# x = en['bonus'] \n",
    "\n",
    "print(type(en['bonus'].iloc[1]))\n",
    "\n",
    "# en['bonus'].iloc[1] = np.nan\n",
    "\n",
    "# print(type(en['bonus'].iloc[1]))\n",
    "      \n",
    "# pd.to_numeric en['bonus'].convert_objects(convert_numeric=True)\n"
   ]
  },
  {
   "cell_type": "code",
   "execution_count": 245,
   "metadata": {},
   "outputs": [
    {
     "ename": "KeyError",
     "evalue": "'the label [salary] is not in the [index]'",
     "output_type": "error",
     "traceback": [
      "\u001b[0;31m---------------------------------------------------------------------------\u001b[0m",
      "\u001b[0;31mKeyError\u001b[0m                                  Traceback (most recent call last)",
      "\u001b[0;32m/anaconda3/lib/python3.6/site-packages/pandas/core/indexing.py\u001b[0m in \u001b[0;36m_has_valid_type\u001b[0;34m(self, key, axis)\u001b[0m\n\u001b[1;32m   1433\u001b[0m                 \u001b[0;32mif\u001b[0m \u001b[0;32mnot\u001b[0m \u001b[0max\u001b[0m\u001b[0;34m.\u001b[0m\u001b[0mcontains\u001b[0m\u001b[0;34m(\u001b[0m\u001b[0mkey\u001b[0m\u001b[0;34m)\u001b[0m\u001b[0;34m:\u001b[0m\u001b[0;34m\u001b[0m\u001b[0m\n\u001b[0;32m-> 1434\u001b[0;31m                     \u001b[0merror\u001b[0m\u001b[0;34m(\u001b[0m\u001b[0;34m)\u001b[0m\u001b[0;34m\u001b[0m\u001b[0m\n\u001b[0m\u001b[1;32m   1435\u001b[0m             \u001b[0;32mexcept\u001b[0m \u001b[0mTypeError\u001b[0m \u001b[0;32mas\u001b[0m \u001b[0me\u001b[0m\u001b[0;34m:\u001b[0m\u001b[0;34m\u001b[0m\u001b[0m\n",
      "\u001b[0;32m/anaconda3/lib/python3.6/site-packages/pandas/core/indexing.py\u001b[0m in \u001b[0;36merror\u001b[0;34m()\u001b[0m\n\u001b[1;32m   1428\u001b[0m                 raise KeyError(\"the label [%s] is not in the [%s]\" %\n\u001b[0;32m-> 1429\u001b[0;31m                                (key, self.obj._get_axis_name(axis)))\n\u001b[0m\u001b[1;32m   1430\u001b[0m \u001b[0;34m\u001b[0m\u001b[0m\n",
      "\u001b[0;31mKeyError\u001b[0m: 'the label [salary] is not in the [index]'",
      "\nDuring handling of the above exception, another exception occurred:\n",
      "\u001b[0;31mKeyError\u001b[0m                                  Traceback (most recent call last)",
      "\u001b[0;32m<ipython-input-245-d50003777507>\u001b[0m in \u001b[0;36m<module>\u001b[0;34m()\u001b[0m\n\u001b[1;32m      1\u001b[0m \u001b[0;34m\u001b[0m\u001b[0m\n\u001b[1;32m      2\u001b[0m \u001b[0;31m# pd.to_numeric(en['bonus'], errors='coerce')\u001b[0m\u001b[0;34m\u001b[0m\u001b[0;34m\u001b[0m\u001b[0m\n\u001b[0;32m----> 3\u001b[0;31m \u001b[0men\u001b[0m\u001b[0;34m.\u001b[0m\u001b[0mloc\u001b[0m\u001b[0;34m[\u001b[0m\u001b[0;34m'salary'\u001b[0m\u001b[0;34m]\u001b[0m \u001b[0;34m>\u001b[0m \u001b[0;36m50000\u001b[0m\u001b[0;34m\u001b[0m\u001b[0m\n\u001b[0m",
      "\u001b[0;32m/anaconda3/lib/python3.6/site-packages/pandas/core/indexing.py\u001b[0m in \u001b[0;36m__getitem__\u001b[0;34m(self, key)\u001b[0m\n\u001b[1;32m   1326\u001b[0m         \u001b[0;32melse\u001b[0m\u001b[0;34m:\u001b[0m\u001b[0;34m\u001b[0m\u001b[0m\n\u001b[1;32m   1327\u001b[0m             \u001b[0mkey\u001b[0m \u001b[0;34m=\u001b[0m \u001b[0mcom\u001b[0m\u001b[0;34m.\u001b[0m\u001b[0m_apply_if_callable\u001b[0m\u001b[0;34m(\u001b[0m\u001b[0mkey\u001b[0m\u001b[0;34m,\u001b[0m \u001b[0mself\u001b[0m\u001b[0;34m.\u001b[0m\u001b[0mobj\u001b[0m\u001b[0;34m)\u001b[0m\u001b[0;34m\u001b[0m\u001b[0m\n\u001b[0;32m-> 1328\u001b[0;31m             \u001b[0;32mreturn\u001b[0m \u001b[0mself\u001b[0m\u001b[0;34m.\u001b[0m\u001b[0m_getitem_axis\u001b[0m\u001b[0;34m(\u001b[0m\u001b[0mkey\u001b[0m\u001b[0;34m,\u001b[0m \u001b[0maxis\u001b[0m\u001b[0;34m=\u001b[0m\u001b[0;36m0\u001b[0m\u001b[0;34m)\u001b[0m\u001b[0;34m\u001b[0m\u001b[0m\n\u001b[0m\u001b[1;32m   1329\u001b[0m \u001b[0;34m\u001b[0m\u001b[0m\n\u001b[1;32m   1330\u001b[0m     \u001b[0;32mdef\u001b[0m \u001b[0m_is_scalar_access\u001b[0m\u001b[0;34m(\u001b[0m\u001b[0mself\u001b[0m\u001b[0;34m,\u001b[0m \u001b[0mkey\u001b[0m\u001b[0;34m)\u001b[0m\u001b[0;34m:\u001b[0m\u001b[0;34m\u001b[0m\u001b[0m\n",
      "\u001b[0;32m/anaconda3/lib/python3.6/site-packages/pandas/core/indexing.py\u001b[0m in \u001b[0;36m_getitem_axis\u001b[0;34m(self, key, axis)\u001b[0m\n\u001b[1;32m   1549\u001b[0m \u001b[0;34m\u001b[0m\u001b[0m\n\u001b[1;32m   1550\u001b[0m         \u001b[0;31m# fall thru to straight lookup\u001b[0m\u001b[0;34m\u001b[0m\u001b[0;34m\u001b[0m\u001b[0m\n\u001b[0;32m-> 1551\u001b[0;31m         \u001b[0mself\u001b[0m\u001b[0;34m.\u001b[0m\u001b[0m_has_valid_type\u001b[0m\u001b[0;34m(\u001b[0m\u001b[0mkey\u001b[0m\u001b[0;34m,\u001b[0m \u001b[0maxis\u001b[0m\u001b[0;34m)\u001b[0m\u001b[0;34m\u001b[0m\u001b[0m\n\u001b[0m\u001b[1;32m   1552\u001b[0m         \u001b[0;32mreturn\u001b[0m \u001b[0mself\u001b[0m\u001b[0;34m.\u001b[0m\u001b[0m_get_label\u001b[0m\u001b[0;34m(\u001b[0m\u001b[0mkey\u001b[0m\u001b[0;34m,\u001b[0m \u001b[0maxis\u001b[0m\u001b[0;34m=\u001b[0m\u001b[0maxis\u001b[0m\u001b[0;34m)\u001b[0m\u001b[0;34m\u001b[0m\u001b[0m\n\u001b[1;32m   1553\u001b[0m \u001b[0;34m\u001b[0m\u001b[0m\n",
      "\u001b[0;32m/anaconda3/lib/python3.6/site-packages/pandas/core/indexing.py\u001b[0m in \u001b[0;36m_has_valid_type\u001b[0;34m(self, key, axis)\u001b[0m\n\u001b[1;32m   1440\u001b[0m                 \u001b[0;32mraise\u001b[0m\u001b[0;34m\u001b[0m\u001b[0m\n\u001b[1;32m   1441\u001b[0m             \u001b[0;32mexcept\u001b[0m\u001b[0;34m:\u001b[0m\u001b[0;34m\u001b[0m\u001b[0m\n\u001b[0;32m-> 1442\u001b[0;31m                 \u001b[0merror\u001b[0m\u001b[0;34m(\u001b[0m\u001b[0;34m)\u001b[0m\u001b[0;34m\u001b[0m\u001b[0m\n\u001b[0m\u001b[1;32m   1443\u001b[0m \u001b[0;34m\u001b[0m\u001b[0m\n\u001b[1;32m   1444\u001b[0m         \u001b[0;32mreturn\u001b[0m \u001b[0;32mTrue\u001b[0m\u001b[0;34m\u001b[0m\u001b[0m\n",
      "\u001b[0;32m/anaconda3/lib/python3.6/site-packages/pandas/core/indexing.py\u001b[0m in \u001b[0;36merror\u001b[0;34m()\u001b[0m\n\u001b[1;32m   1427\u001b[0m                                     \"key\")\n\u001b[1;32m   1428\u001b[0m                 raise KeyError(\"the label [%s] is not in the [%s]\" %\n\u001b[0;32m-> 1429\u001b[0;31m                                (key, self.obj._get_axis_name(axis)))\n\u001b[0m\u001b[1;32m   1430\u001b[0m \u001b[0;34m\u001b[0m\u001b[0m\n\u001b[1;32m   1431\u001b[0m             \u001b[0;32mtry\u001b[0m\u001b[0;34m:\u001b[0m\u001b[0;34m\u001b[0m\u001b[0m\n",
      "\u001b[0;31mKeyError\u001b[0m: 'the label [salary] is not in the [index]'"
     ]
    }
   ],
   "source": [
    "\n",
    "# pd.to_numeric(en['bonus'], errors='coerce')\n",
    "en.loc['salary'] > 50000"
   ]
  },
  {
   "cell_type": "code",
   "execution_count": null,
   "metadata": {
    "collapsed": true
   },
   "outputs": [],
   "source": []
  }
 ],
 "metadata": {
  "kernelspec": {
   "display_name": "Python 3",
   "language": "python",
   "name": "python3"
  },
  "language_info": {
   "codemirror_mode": {
    "name": "ipython",
    "version": 3
   },
   "file_extension": ".py",
   "mimetype": "text/x-python",
   "name": "python",
   "nbconvert_exporter": "python",
   "pygments_lexer": "ipython3",
   "version": "3.6.2"
  }
 },
 "nbformat": 4,
 "nbformat_minor": 2
}
